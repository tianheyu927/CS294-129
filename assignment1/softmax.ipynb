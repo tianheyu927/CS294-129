{
 "cells": [
  {
   "cell_type": "markdown",
   "metadata": {},
   "source": [
    "# Softmax exercise\n",
    "\n",
    "*Complete and hand in this completed worksheet (including its outputs and any supporting code outside of the worksheet) with your assignment submission. For more details see the [assignments page](https://bcourses.berkeley.edu/courses/1453965/assignments/7738616) on the course website.*\n",
    "\n",
    "This exercise is analogous to the SVM exercise. You will:\n",
    "\n",
    "- implement a fully-vectorized **loss function** for the Softmax classifier\n",
    "- implement the fully-vectorized expression for its **analytic gradient**\n",
    "- **check your implementation** with numerical gradient\n",
    "- use a validation set to **tune the learning rate and regularization** strength\n",
    "- **optimize** the loss function with **SGD**\n",
    "- **visualize** the final learned weights\n"
   ]
  },
  {
   "cell_type": "code",
   "execution_count": 1,
   "metadata": {
    "collapsed": false
   },
   "outputs": [],
   "source": [
    "import random\n",
    "import numpy as np\n",
    "from cs294_129.data_utils import load_CIFAR10\n",
    "import matplotlib.pyplot as plt\n",
    "%matplotlib inline\n",
    "plt.rcParams['figure.figsize'] = (10.0, 8.0) # set default size of plots\n",
    "plt.rcParams['image.interpolation'] = 'nearest'\n",
    "plt.rcParams['image.cmap'] = 'gray'\n",
    "\n",
    "# for auto-reloading extenrnal modules\n",
    "# see http://stackoverflow.com/questions/1907993/autoreload-of-modules-in-ipython\n",
    "%load_ext autoreload\n",
    "%autoreload 2"
   ]
  },
  {
   "cell_type": "code",
   "execution_count": 2,
   "metadata": {
    "collapsed": false
   },
   "outputs": [
    {
     "name": "stdout",
     "output_type": "stream",
     "text": [
      "Train data shape:  (49000, 3073)\n",
      "Train labels shape:  (49000,)\n",
      "Validation data shape:  (1000, 3073)\n",
      "Validation labels shape:  (1000,)\n",
      "Test data shape:  (1000, 3073)\n",
      "Test labels shape:  (1000,)\n",
      "dev data shape:  (500, 3073)\n",
      "dev labels shape:  (500,)\n"
     ]
    }
   ],
   "source": [
    "def get_CIFAR10_data(num_training=49000, num_validation=1000, num_test=1000, num_dev=500):\n",
    "  \"\"\"\n",
    "  Load the CIFAR-10 dataset from disk and perform preprocessing to prepare\n",
    "  it for the linear classifier. These are the same steps as we used for the\n",
    "  SVM, but condensed to a single function.  \n",
    "  \"\"\"\n",
    "  # Load the raw CIFAR-10 data\n",
    "  cifar10_dir = 'cs294_129/datasets/cifar-10-batches-py'\n",
    "  X_train, y_train, X_test, y_test = load_CIFAR10(cifar10_dir)\n",
    "  \n",
    "  # subsample the data\n",
    "  mask = range(num_training, num_training + num_validation)\n",
    "  X_val = X_train[mask]\n",
    "  y_val = y_train[mask]\n",
    "  mask = range(num_training)\n",
    "  X_train = X_train[mask]\n",
    "  y_train = y_train[mask]\n",
    "  mask = range(num_test)\n",
    "  X_test = X_test[mask]\n",
    "  y_test = y_test[mask]\n",
    "  mask = np.random.choice(num_training, num_dev, replace=False)\n",
    "  X_dev = X_train[mask]\n",
    "  y_dev = y_train[mask]\n",
    "  \n",
    "  # Preprocessing: reshape the image data into rows\n",
    "  X_train = np.reshape(X_train, (X_train.shape[0], -1))\n",
    "  X_val = np.reshape(X_val, (X_val.shape[0], -1))\n",
    "  X_test = np.reshape(X_test, (X_test.shape[0], -1))\n",
    "  X_dev = np.reshape(X_dev, (X_dev.shape[0], -1))\n",
    "  \n",
    "  # Normalize the data: subtract the mean image\n",
    "  mean_image = np.mean(X_train, axis = 0)\n",
    "  X_train -= mean_image\n",
    "  X_val -= mean_image\n",
    "  X_test -= mean_image\n",
    "  X_dev -= mean_image\n",
    "  \n",
    "  # add bias dimension and transform into columns\n",
    "  X_train = np.hstack([X_train, np.ones((X_train.shape[0], 1))])\n",
    "  X_val = np.hstack([X_val, np.ones((X_val.shape[0], 1))])\n",
    "  X_test = np.hstack([X_test, np.ones((X_test.shape[0], 1))])\n",
    "  X_dev = np.hstack([X_dev, np.ones((X_dev.shape[0], 1))])\n",
    "  \n",
    "  return X_train, y_train, X_val, y_val, X_test, y_test, X_dev, y_dev\n",
    "\n",
    "\n",
    "# Invoke the above function to get our data.\n",
    "X_train, y_train, X_val, y_val, X_test, y_test, X_dev, y_dev = get_CIFAR10_data()\n",
    "print 'Train data shape: ', X_train.shape\n",
    "print 'Train labels shape: ', y_train.shape\n",
    "print 'Validation data shape: ', X_val.shape\n",
    "print 'Validation labels shape: ', y_val.shape\n",
    "print 'Test data shape: ', X_test.shape\n",
    "print 'Test labels shape: ', y_test.shape\n",
    "print 'dev data shape: ', X_dev.shape\n",
    "print 'dev labels shape: ', y_dev.shape"
   ]
  },
  {
   "cell_type": "markdown",
   "metadata": {},
   "source": [
    "## Softmax Classifier\n",
    "\n",
    "Your code for this section will all be written inside **cs294_129/classifiers/softmax.py**. \n"
   ]
  },
  {
   "cell_type": "code",
   "execution_count": 3,
   "metadata": {
    "collapsed": false
   },
   "outputs": [
    {
     "name": "stdout",
     "output_type": "stream",
     "text": [
      "loss: 2.345594\n",
      "sanity check: 2.302585\n"
     ]
    }
   ],
   "source": [
    "# First implement the naive softmax loss function with nested loops.\n",
    "# Open the file cs294_129/classifiers/softmax.py and implement the\n",
    "# softmax_loss_naive function.\n",
    "\n",
    "from cs294_129.classifiers.softmax import softmax_loss_naive\n",
    "import time\n",
    "\n",
    "# Generate a random softmax weight matrix and use it to compute the loss.\n",
    "W = np.random.randn(3073, 10) * 0.0001\n",
    "loss, grad = softmax_loss_naive(W, X_dev, y_dev, 0.0)\n",
    "\n",
    "# As a rough sanity check, our loss should be something close to -log(0.1).\n",
    "print 'loss: %f' % loss\n",
    "print 'sanity check: %f' % (-np.log(0.1))"
   ]
  },
  {
   "cell_type": "markdown",
   "metadata": {},
   "source": [
    "## Inline Question 1:\n",
    "Why do we expect our loss to be close to -log(0.1)? Explain briefly.**\n",
    "\n",
    "**Your answer:** *Since we initialize all weights ti be 0, the loss for all classes should be the same, which is -log(e^0/(10*e^0)) = -log(0.1).*\n"
   ]
  },
  {
   "cell_type": "code",
   "execution_count": 4,
   "metadata": {
    "collapsed": false
   },
   "outputs": [
    {
     "name": "stdout",
     "output_type": "stream",
     "text": [
      "numerical: -1.011018 analytic: -1.011018, relative error: 3.337769e-08\n",
      "numerical: 0.754626 analytic: 0.754626, relative error: 4.976375e-08\n",
      "numerical: -4.114580 analytic: -4.114581, relative error: 1.304801e-08\n",
      "numerical: -0.455214 analytic: -0.455214, relative error: 1.490435e-07\n",
      "numerical: 0.918132 analytic: 0.918132, relative error: 2.683313e-08\n",
      "numerical: 2.769863 analytic: 2.769863, relative error: 1.429356e-08\n",
      "numerical: 0.509314 analytic: 0.509314, relative error: 1.059674e-07\n",
      "numerical: 1.125508 analytic: 1.125509, relative error: 8.593679e-08\n",
      "numerical: 0.397336 analytic: 0.397336, relative error: 1.428564e-07\n",
      "numerical: 0.391122 analytic: 0.391122, relative error: 1.181043e-07\n",
      "numerical: -0.563761 analytic: -0.563761, relative error: 3.531457e-09\n",
      "numerical: 1.253446 analytic: 1.253446, relative error: 3.894201e-08\n",
      "numerical: 0.272948 analytic: 0.272948, relative error: 1.718785e-07\n",
      "numerical: -0.797989 analytic: -0.797989, relative error: 3.864072e-08\n",
      "numerical: -4.097514 analytic: -4.097514, relative error: 8.124082e-09\n",
      "numerical: -2.282991 analytic: -2.282991, relative error: 2.195576e-08\n",
      "numerical: 2.602684 analytic: 2.602683, relative error: 1.865596e-08\n",
      "numerical: -0.600476 analytic: -0.600476, relative error: 2.523318e-08\n",
      "numerical: -0.823032 analytic: -0.823032, relative error: 1.156762e-08\n",
      "numerical: 0.586902 analytic: 0.586902, relative error: 2.960537e-09\n"
     ]
    }
   ],
   "source": [
    "# Complete the implementation of softmax_loss_naive and implement a (naive)\n",
    "# version of the gradient that uses nested loops.\n",
    "loss, grad = softmax_loss_naive(W, X_dev, y_dev, 0.0)\n",
    "\n",
    "# As we did for the SVM, use numeric gradient checking as a debugging tool.\n",
    "# The numeric gradient should be close to the analytic gradient.\n",
    "from cs294_129.gradient_check import grad_check_sparse\n",
    "f = lambda w: softmax_loss_naive(w, X_dev, y_dev, 0.0)[0]\n",
    "grad_numerical = grad_check_sparse(f, W, grad, 10)\n",
    "\n",
    "# similar to SVM case, do another gradient check with regularization\n",
    "loss, grad = softmax_loss_naive(W, X_dev, y_dev, 1e2)\n",
    "f = lambda w: softmax_loss_naive(w, X_dev, y_dev, 1e2)[0]\n",
    "grad_numerical = grad_check_sparse(f, W, grad, 10)"
   ]
  },
  {
   "cell_type": "code",
   "execution_count": 5,
   "metadata": {
    "collapsed": false
   },
   "outputs": [
    {
     "name": "stdout",
     "output_type": "stream",
     "text": [
      "naive loss: 2.345594e+00 computed in 0.488751s\n",
      "vectorized loss: 2.345594e+00 computed in 0.017674s\n",
      "Loss difference: 0.000000\n",
      "Gradient difference: 0.000000\n"
     ]
    }
   ],
   "source": [
    "# Now that we have a naive implementation of the softmax loss function and its gradient,\n",
    "# implement a vectorized version in softmax_loss_vectorized.\n",
    "# The two versions should compute the same results, but the vectorized version should be\n",
    "# much faster.\n",
    "tic = time.time()\n",
    "loss_naive, grad_naive = softmax_loss_naive(W, X_dev, y_dev, 0.00001)\n",
    "toc = time.time()\n",
    "print 'naive loss: %e computed in %fs' % (loss_naive, toc - tic)\n",
    "\n",
    "from cs294_129.classifiers.softmax import softmax_loss_vectorized\n",
    "tic = time.time()\n",
    "loss_vectorized, grad_vectorized = softmax_loss_vectorized(W, X_dev, y_dev, 0.00001)\n",
    "toc = time.time()\n",
    "print 'vectorized loss: %e computed in %fs' % (loss_vectorized, toc - tic)\n",
    "\n",
    "# As we did for the SVM, we use the Frobenius norm to compare the two versions\n",
    "# of the gradient.\n",
    "grad_difference = np.linalg.norm(grad_naive - grad_vectorized, ord='fro')\n",
    "print 'Loss difference: %f' % np.abs(loss_naive - loss_vectorized)\n",
    "print 'Gradient difference: %f' % grad_difference"
   ]
  },
  {
   "cell_type": "code",
   "execution_count": 6,
   "metadata": {
    "collapsed": false
   },
   "outputs": [
    {
     "name": "stdout",
     "output_type": "stream",
     "text": [
      "lr 3.000000e-07 reg 5.000000e+03 train accuracy: 0.185755 val accuracy: 0.199000\n",
      "lr 3.000000e-07 reg 7.000000e+03 train accuracy: 0.178020 val accuracy: 0.182000\n",
      "lr 3.000000e-07 reg 1.000000e+04 train accuracy: 0.201673 val accuracy: 0.202000\n",
      "lr 3.000000e-07 reg 3.000000e+04 train accuracy: 0.216347 val accuracy: 0.207000\n",
      "lr 3.000000e-07 reg 5.000000e+04 train accuracy: 0.242694 val accuracy: 0.238000\n",
      "lr 3.000000e-07 reg 7.000000e+04 train accuracy: 0.272122 val accuracy: 0.285000\n",
      "lr 5.000000e-07 reg 5.000000e+03 train accuracy: 0.210000 val accuracy: 0.229000\n",
      "lr 5.000000e-07 reg 7.000000e+03 train accuracy: 0.219837 val accuracy: 0.220000\n",
      "lr 5.000000e-07 reg 1.000000e+04 train accuracy: 0.221061 val accuracy: 0.241000\n",
      "lr 5.000000e-07 reg 3.000000e+04 train accuracy: 0.279204 val accuracy: 0.277000\n",
      "lr 5.000000e-07 reg 5.000000e+04 train accuracy: 0.301878 val accuracy: 0.323000\n",
      "lr 5.000000e-07 reg 7.000000e+04 train accuracy: 0.310551 val accuracy: 0.322000\n",
      "lr 7.000000e-07 reg 5.000000e+03 train accuracy: 0.222816 val accuracy: 0.236000\n",
      "lr 7.000000e-07 reg 7.000000e+03 train accuracy: 0.242490 val accuracy: 0.265000\n",
      "lr 7.000000e-07 reg 1.000000e+04 train accuracy: 0.246796 val accuracy: 0.251000\n",
      "lr 7.000000e-07 reg 3.000000e+04 train accuracy: 0.308367 val accuracy: 0.322000\n",
      "lr 7.000000e-07 reg 5.000000e+04 train accuracy: 0.321429 val accuracy: 0.349000\n",
      "lr 7.000000e-07 reg 7.000000e+04 train accuracy: 0.310959 val accuracy: 0.322000\n",
      "lr 1.000000e-06 reg 5.000000e+03 train accuracy: 0.258592 val accuracy: 0.271000\n",
      "lr 1.000000e-06 reg 7.000000e+03 train accuracy: 0.264959 val accuracy: 0.274000\n",
      "lr 1.000000e-06 reg 1.000000e+04 train accuracy: 0.279898 val accuracy: 0.294000\n",
      "lr 1.000000e-06 reg 3.000000e+04 train accuracy: 0.331469 val accuracy: 0.352000\n",
      "lr 1.000000e-06 reg 5.000000e+04 train accuracy: 0.314286 val accuracy: 0.333000\n",
      "lr 1.000000e-06 reg 7.000000e+04 train accuracy: 0.319776 val accuracy: 0.331000\n",
      "lr 3.000000e-06 reg 5.000000e+03 train accuracy: 0.350163 val accuracy: 0.331000\n",
      "lr 3.000000e-06 reg 7.000000e+03 train accuracy: 0.350735 val accuracy: 0.353000\n",
      "lr 3.000000e-06 reg 1.000000e+04 train accuracy: 0.349980 val accuracy: 0.361000\n",
      "lr 3.000000e-06 reg 3.000000e+04 train accuracy: 0.300449 val accuracy: 0.301000\n",
      "lr 3.000000e-06 reg 5.000000e+04 train accuracy: 0.293245 val accuracy: 0.295000\n",
      "lr 3.000000e-06 reg 7.000000e+04 train accuracy: 0.290918 val accuracy: 0.290000\n",
      "lr 5.000000e-06 reg 5.000000e+03 train accuracy: 0.338082 val accuracy: 0.353000\n",
      "lr 5.000000e-06 reg 7.000000e+03 train accuracy: 0.345449 val accuracy: 0.361000\n",
      "lr 5.000000e-06 reg 1.000000e+04 train accuracy: 0.298714 val accuracy: 0.324000\n",
      "lr 5.000000e-06 reg 3.000000e+04 train accuracy: 0.213980 val accuracy: 0.216000\n",
      "lr 5.000000e-06 reg 5.000000e+04 train accuracy: 0.187184 val accuracy: 0.202000\n",
      "lr 5.000000e-06 reg 7.000000e+04 train accuracy: 0.187143 val accuracy: 0.180000\n",
      "lr 1.000000e-05 reg 5.000000e+03 train accuracy: 0.219633 val accuracy: 0.240000\n",
      "lr 1.000000e-05 reg 7.000000e+03 train accuracy: 0.197735 val accuracy: 0.217000\n",
      "lr 1.000000e-05 reg 1.000000e+04 train accuracy: 0.197082 val accuracy: 0.193000\n",
      "lr 1.000000e-05 reg 3.000000e+04 train accuracy: 0.179163 val accuracy: 0.164000\n",
      "lr 1.000000e-05 reg 5.000000e+04 train accuracy: 0.103143 val accuracy: 0.079000\n",
      "lr 1.000000e-05 reg 7.000000e+04 train accuracy: 0.078939 val accuracy: 0.074000\n",
      "best validation accuracy achieved during cross-validation: 0.361000\n"
     ]
    }
   ],
   "source": [
    "# Use the validation set to tune hyperparameters (regularization strength and\n",
    "# learning rate). You should experiment with different ranges for the learning\n",
    "# rates and regularization strengths; if you are careful you should be able to\n",
    "# get a classification accuracy of over 0.35 on the validation set.\n",
    "from cs294_129.classifiers import Softmax\n",
    "results = {}\n",
    "best_val = -1\n",
    "best_softmax = None\n",
    "learning_rates = [3e-7, 5e-7, 7e-7, 1e-6, 3e-6, 5e-6, 1e-5]\n",
    "regularization_strengths = [5e3, 7e3, 1e4, 3e4, 5e4, 7e4]\n",
    "\n",
    "################################################################################\n",
    "# TODO:                                                                        #\n",
    "# Use the validation set to set the learning rate and regularization strength. #\n",
    "# This should be identical to the validation that you did for the SVM; save    #\n",
    "# the best trained softmax classifer in best_softmax.                          #\n",
    "################################################################################\n",
    "for rate in learning_rates:\n",
    "    for reg in regularization_strengths:\n",
    "        softmax = Softmax()\n",
    "        softmax.train(X_train, y_train, rate, reg, num_iters=100, verbose=False)\n",
    "        y_train_pred = softmax.predict(X_train)\n",
    "        y_val_pred = softmax.predict(X_val)\n",
    "        num_correct_train = np.sum(y_train_pred == y_train)\n",
    "        num_correct_val = np.sum(y_val_pred == y_val)\n",
    "        train_accuracy = float(num_correct_train) / y_train.size\n",
    "        val_accuracy = float(num_correct_val) / y_val.size\n",
    "        results[(rate, reg)] = (train_accuracy, val_accuracy)\n",
    "        if val_accuracy > best_val:\n",
    "            best_val = val_accuracy\n",
    "            best_softmax = softmax\n",
    "################################################################################\n",
    "#                              END OF YOUR CODE                                #\n",
    "################################################################################\n",
    "    \n",
    "# Print out results.\n",
    "for lr, reg in sorted(results):\n",
    "    train_accuracy, val_accuracy = results[(lr, reg)]\n",
    "    print 'lr %e reg %e train accuracy: %f val accuracy: %f' % (\n",
    "                lr, reg, train_accuracy, val_accuracy)\n",
    "    \n",
    "print 'best validation accuracy achieved during cross-validation: %f' % best_val"
   ]
  },
  {
   "cell_type": "code",
   "execution_count": 7,
   "metadata": {
    "collapsed": false
   },
   "outputs": [
    {
     "name": "stdout",
     "output_type": "stream",
     "text": [
      "softmax on raw pixels final test set accuracy: 0.359000\n"
     ]
    }
   ],
   "source": [
    "# evaluate on test set\n",
    "# Evaluate the best softmax on test set\n",
    "y_test_pred = best_softmax.predict(X_test)\n",
    "test_accuracy = np.mean(y_test == y_test_pred)\n",
    "print 'softmax on raw pixels final test set accuracy: %f' % (test_accuracy, )"
   ]
  },
  {
   "cell_type": "code",
   "execution_count": 8,
   "metadata": {
    "collapsed": false
   },
   "outputs": [
    {
     "data": {
      "image/png": "[encoded data removed]",
      "text/plain": [
       "<matplotlib.figure.Figure at 0x7f8bcbeaa650>"
      ]
     },
     "metadata": {},
     "output_type": "display_data"
    }
   ],
   "source": [
    "# Visualize the learned weights for each class\n",
    "w = best_softmax.W[:-1,:] # strip out the bias\n",
    "w = w.reshape(32, 32, 3, 10)\n",
    "\n",
    "w_min, w_max = np.min(w), np.max(w)\n",
    "\n",
    "classes = ['plane', 'car', 'bird', 'cat', 'deer', 'dog', 'frog', 'horse', 'ship', 'truck']\n",
    "for i in xrange(10):\n",
    "  plt.subplot(2, 5, i + 1)\n",
    "  \n",
    "  # Rescale the weights to be between 0 and 255\n",
    "  wimg = 255.0 * (w[:, :, :, i].squeeze() - w_min) / (w_max - w_min)\n",
    "  plt.imshow(wimg.astype('uint8'))\n",
    "  plt.axis('off')\n",
    "  plt.title(classes[i])"
   ]
  },
  {
   "cell_type": "code",
   "execution_count": null,
   "metadata": {
    "collapsed": true
   },
   "outputs": [],
   "source": []
  }
 ],
 "metadata": {
  "kernelspec": {
   "display_name": "Python 2",
   "language": "python",
   "name": "python2"
  },
  "language_info": {
   "codemirror_mode": {
    "name": "ipython",
    "version": 2
   },
   "file_extension": ".py",
   "mimetype": "text/x-python",
   "name": "python",
   "nbconvert_exporter": "python",
   "pygments_lexer": "ipython2",
   "version": "2.7.12"
  }
 },
 "nbformat": 4,
 "nbformat_minor": 0
}
