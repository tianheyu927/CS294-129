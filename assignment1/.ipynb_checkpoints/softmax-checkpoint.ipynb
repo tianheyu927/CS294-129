{
 "cells": [
  {
   "cell_type": "markdown",
   "metadata": {},
   "source": [
    "# Softmax exercise\n",
    "\n",
    "*Complete and hand in this completed worksheet (including its outputs and any supporting code outside of the worksheet) with your assignment submission. For more details see the [assignments page](https://bcourses.berkeley.edu/courses/1453965/assignments/7738616) on the course website.*\n",
    "\n",
    "This exercise is analogous to the SVM exercise. You will:\n",
    "\n",
    "- implement a fully-vectorized **loss function** for the Softmax classifier\n",
    "- implement the fully-vectorized expression for its **analytic gradient**\n",
    "- **check your implementation** with numerical gradient\n",
    "- use a validation set to **tune the learning rate and regularization** strength\n",
    "- **optimize** the loss function with **SGD**\n",
    "- **visualize** the final learned weights\n"
   ]
  },
  {
   "cell_type": "code",
   "execution_count": 1,
   "metadata": {
    "collapsed": false
   },
   "outputs": [
    {
     "name": "stderr",
     "output_type": "stream",
     "text": [
      "/Users/macbookpro/anaconda/lib/python2.7/site-packages/matplotlib/font_manager.py:273: UserWarning: Matplotlib is building the font cache using fc-list. This may take a moment.\n",
      "  warnings.warn('Matplotlib is building the font cache using fc-list. This may take a moment.')\n"
     ]
    }
   ],
   "source": [
    "import random\n",
    "import numpy as np\n",
    "from cs294_129.data_utils import load_CIFAR10\n",
    "import matplotlib.pyplot as plt\n",
    "%matplotlib inline\n",
    "plt.rcParams['figure.figsize'] = (10.0, 8.0) # set default size of plots\n",
    "plt.rcParams['image.interpolation'] = 'nearest'\n",
    "plt.rcParams['image.cmap'] = 'gray'\n",
    "\n",
    "# for auto-reloading extenrnal modules\n",
    "# see http://stackoverflow.com/questions/1907993/autoreload-of-modules-in-ipython\n",
    "%load_ext autoreload\n",
    "%autoreload 2"
   ]
  },
  {
   "cell_type": "code",
   "execution_count": 2,
   "metadata": {
    "collapsed": false
   },
   "outputs": [
    {
     "name": "stdout",
     "output_type": "stream",
     "text": [
      "Train data shape:  (49000, 3073)\n",
      "Train labels shape:  (49000,)\n",
      "Validation data shape:  (1000, 3073)\n",
      "Validation labels shape:  (1000,)\n",
      "Test data shape:  (1000, 3073)\n",
      "Test labels shape:  (1000,)\n",
      "dev data shape:  (500, 3073)\n",
      "dev labels shape:  (500,)\n"
     ]
    }
   ],
   "source": [
    "def get_CIFAR10_data(num_training=49000, num_validation=1000, num_test=1000, num_dev=500):\n",
    "  \"\"\"\n",
    "  Load the CIFAR-10 dataset from disk and perform preprocessing to prepare\n",
    "  it for the linear classifier. These are the same steps as we used for the\n",
    "  SVM, but condensed to a single function.  \n",
    "  \"\"\"\n",
    "  # Load the raw CIFAR-10 data\n",
    "  cifar10_dir = 'cs294_129/datasets/cifar-10-batches-py'\n",
    "  X_train, y_train, X_test, y_test = load_CIFAR10(cifar10_dir)\n",
    "  \n",
    "  # subsample the data\n",
    "  mask = range(num_training, num_training + num_validation)\n",
    "  X_val = X_train[mask]\n",
    "  y_val = y_train[mask]\n",
    "  mask = range(num_training)\n",
    "  X_train = X_train[mask]\n",
    "  y_train = y_train[mask]\n",
    "  mask = range(num_test)\n",
    "  X_test = X_test[mask]\n",
    "  y_test = y_test[mask]\n",
    "  mask = np.random.choice(num_training, num_dev, replace=False)\n",
    "  X_dev = X_train[mask]\n",
    "  y_dev = y_train[mask]\n",
    "  \n",
    "  # Preprocessing: reshape the image data into rows\n",
    "  X_train = np.reshape(X_train, (X_train.shape[0], -1))\n",
    "  X_val = np.reshape(X_val, (X_val.shape[0], -1))\n",
    "  X_test = np.reshape(X_test, (X_test.shape[0], -1))\n",
    "  X_dev = np.reshape(X_dev, (X_dev.shape[0], -1))\n",
    "  \n",
    "  # Normalize the data: subtract the mean image\n",
    "  mean_image = np.mean(X_train, axis = 0)\n",
    "  X_train -= mean_image\n",
    "  X_val -= mean_image\n",
    "  X_test -= mean_image\n",
    "  X_dev -= mean_image\n",
    "  \n",
    "  # add bias dimension and transform into columns\n",
    "  X_train = np.hstack([X_train, np.ones((X_train.shape[0], 1))])\n",
    "  X_val = np.hstack([X_val, np.ones((X_val.shape[0], 1))])\n",
    "  X_test = np.hstack([X_test, np.ones((X_test.shape[0], 1))])\n",
    "  X_dev = np.hstack([X_dev, np.ones((X_dev.shape[0], 1))])\n",
    "  \n",
    "  return X_train, y_train, X_val, y_val, X_test, y_test, X_dev, y_dev\n",
    "\n",
    "\n",
    "# Invoke the above function to get our data.\n",
    "X_train, y_train, X_val, y_val, X_test, y_test, X_dev, y_dev = get_CIFAR10_data()\n",
    "print 'Train data shape: ', X_train.shape\n",
    "print 'Train labels shape: ', y_train.shape\n",
    "print 'Validation data shape: ', X_val.shape\n",
    "print 'Validation labels shape: ', y_val.shape\n",
    "print 'Test data shape: ', X_test.shape\n",
    "print 'Test labels shape: ', y_test.shape\n",
    "print 'dev data shape: ', X_dev.shape\n",
    "print 'dev labels shape: ', y_dev.shape"
   ]
  },
  {
   "cell_type": "markdown",
   "metadata": {},
   "source": [
    "## Softmax Classifier\n",
    "\n",
    "Your code for this section will all be written inside **cs294_129/classifiers/softmax.py**. \n"
   ]
  },
  {
   "cell_type": "code",
   "execution_count": 4,
   "metadata": {
    "collapsed": false
   },
   "outputs": [
    {
     "name": "stdout",
     "output_type": "stream",
     "text": [
      "loss: 2.339727\n",
      "sanity check: 2.302585\n"
     ]
    }
   ],
   "source": [
    "# First implement the naive softmax loss function with nested loops.\n",
    "# Open the file cs294_129/classifiers/softmax.py and implement the\n",
    "# softmax_loss_naive function.\n",
    "\n",
    "from cs294_129.classifiers.softmax import softmax_loss_naive\n",
    "import time\n",
    "\n",
    "# Generate a random softmax weight matrix and use it to compute the loss.\n",
    "W = np.random.randn(3073, 10) * 0.0001\n",
    "loss, grad = softmax_loss_naive(W, X_dev, y_dev, 0.0)\n",
    "\n",
    "# As a rough sanity check, our loss should be something close to -log(0.1).\n",
    "print 'loss: %f' % loss\n",
    "print 'sanity check: %f' % (-np.log(0.1))"
   ]
  },
  {
   "cell_type": "markdown",
   "metadata": {},
   "source": [
    "## Inline Question 1:\n",
    "Why do we expect our loss to be close to -log(0.1)? Explain briefly.**\n",
    "\n",
    "**Your answer:** *Since we initialize all weights ti be 0, the loss for all classes should be the same, which is -log(e^0/(10*e^0)) = -log(0.1).*\n"
   ]
  },
  {
   "cell_type": "code",
   "execution_count": 6,
   "metadata": {
    "collapsed": false
   },
   "outputs": [
    {
     "name": "stdout",
     "output_type": "stream",
     "text": [
      "numerical: -0.304323 analytic: -0.304323, relative error: 5.852106e-08\n",
      "numerical: 0.825795 analytic: 0.825795, relative error: 8.375460e-08\n",
      "numerical: 0.343283 analytic: 0.343283, relative error: 2.253085e-07\n",
      "numerical: -4.014407 analytic: -4.014407, relative error: 2.150195e-09\n",
      "numerical: -0.005425 analytic: -0.005425, relative error: 2.892754e-06\n",
      "numerical: -1.703402 analytic: -1.703403, relative error: 3.100454e-08\n",
      "numerical: 0.443565 analytic: 0.443565, relative error: 5.109623e-08\n",
      "numerical: 0.304532 analytic: 0.304532, relative error: 1.804370e-07\n",
      "numerical: 1.279362 analytic: 1.279362, relative error: 2.396277e-08\n",
      "numerical: 0.033738 analytic: 0.033738, relative error: 1.854099e-07\n",
      "numerical: 1.858472 analytic: 1.858472, relative error: 2.246411e-08\n",
      "numerical: 2.019788 analytic: 2.019788, relative error: 9.289935e-09\n",
      "numerical: 1.836527 analytic: 1.836527, relative error: 2.299575e-08\n",
      "numerical: -0.341724 analytic: -0.341724, relative error: 1.543712e-07\n",
      "numerical: 0.194357 analytic: 0.194356, relative error: 2.771757e-07\n",
      "numerical: 0.389373 analytic: 0.389373, relative error: 5.609365e-08\n",
      "numerical: 2.209645 analytic: 2.209645, relative error: 9.016818e-09\n",
      "numerical: -2.175397 analytic: -2.175397, relative error: 2.380279e-09\n",
      "numerical: 2.058093 analytic: 2.058093, relative error: 6.612522e-09\n",
      "numerical: 1.544386 analytic: 1.544385, relative error: 4.618485e-08\n"
     ]
    }
   ],
   "source": [
    "# Complete the implementation of softmax_loss_naive and implement a (naive)\n",
    "# version of the gradient that uses nested loops.\n",
    "loss, grad = softmax_loss_naive(W, X_dev, y_dev, 0.0)\n",
    "\n",
    "# As we did for the SVM, use numeric gradient checking as a debugging tool.\n",
    "# The numeric gradient should be close to the analytic gradient.\n",
    "from cs294_129.gradient_check import grad_check_sparse\n",
    "f = lambda w: softmax_loss_naive(w, X_dev, y_dev, 0.0)[0]\n",
    "grad_numerical = grad_check_sparse(f, W, grad, 10)\n",
    "\n",
    "# similar to SVM case, do another gradient check with regularization\n",
    "loss, grad = softmax_loss_naive(W, X_dev, y_dev, 1e2)\n",
    "f = lambda w: softmax_loss_naive(w, X_dev, y_dev, 1e2)[0]\n",
    "grad_numerical = grad_check_sparse(f, W, grad, 10)"
   ]
  },
  {
   "cell_type": "code",
   "execution_count": 9,
   "metadata": {
    "collapsed": false
   },
   "outputs": [
    {
     "name": "stdout",
     "output_type": "stream",
     "text": [
      "naive loss: 2.339727e+00 computed in 0.165430s\n",
      "vectorized loss: 2.339727e+00 computed in 0.005500s\n",
      "Loss difference: 0.000000\n",
      "Gradient difference: 0.000000\n"
     ]
    }
   ],
   "source": [
    "# Now that we have a naive implementation of the softmax loss function and its gradient,\n",
    "# implement a vectorized version in softmax_loss_vectorized.\n",
    "# The two versions should compute the same results, but the vectorized version should be\n",
    "# much faster.\n",
    "tic = time.time()\n",
    "loss_naive, grad_naive = softmax_loss_naive(W, X_dev, y_dev, 0.00001)\n",
    "toc = time.time()\n",
    "print 'naive loss: %e computed in %fs' % (loss_naive, toc - tic)\n",
    "\n",
    "from cs294_129.classifiers.softmax import softmax_loss_vectorized\n",
    "tic = time.time()\n",
    "loss_vectorized, grad_vectorized = softmax_loss_vectorized(W, X_dev, y_dev, 0.00001)\n",
    "toc = time.time()\n",
    "print 'vectorized loss: %e computed in %fs' % (loss_vectorized, toc - tic)\n",
    "\n",
    "# As we did for the SVM, we use the Frobenius norm to compare the two versions\n",
    "# of the gradient.\n",
    "grad_difference = np.linalg.norm(grad_naive - grad_vectorized, ord='fro')\n",
    "print 'Loss difference: %f' % np.abs(loss_naive - loss_vectorized)\n",
    "print 'Gradient difference: %f' % grad_difference"
   ]
  },
  {
   "cell_type": "code",
   "execution_count": 20,
   "metadata": {
    "collapsed": false
   },
   "outputs": [
    {
     "name": "stdout",
     "output_type": "stream",
     "text": [
      "lr 3.000000e-07 reg 5.000000e+03 train accuracy: 0.170612 val accuracy: 0.184000\n",
      "lr 3.000000e-07 reg 7.000000e+03 train accuracy: 0.182020 val accuracy: 0.182000\n",
      "lr 3.000000e-07 reg 1.000000e+04 train accuracy: 0.189102 val accuracy: 0.200000\n",
      "lr 3.000000e-07 reg 3.000000e+04 train accuracy: 0.232082 val accuracy: 0.258000\n",
      "lr 3.000000e-07 reg 5.000000e+04 train accuracy: 0.252633 val accuracy: 0.240000\n",
      "lr 3.000000e-07 reg 7.000000e+04 train accuracy: 0.271592 val accuracy: 0.294000\n",
      "lr 5.000000e-07 reg 5.000000e+03 train accuracy: 0.203367 val accuracy: 0.210000\n",
      "lr 5.000000e-07 reg 7.000000e+03 train accuracy: 0.215163 val accuracy: 0.215000\n",
      "lr 5.000000e-07 reg 1.000000e+04 train accuracy: 0.222041 val accuracy: 0.254000\n",
      "lr 5.000000e-07 reg 3.000000e+04 train accuracy: 0.267082 val accuracy: 0.275000\n",
      "lr 5.000000e-07 reg 5.000000e+04 train accuracy: 0.300714 val accuracy: 0.322000\n",
      "lr 5.000000e-07 reg 7.000000e+04 train accuracy: 0.301673 val accuracy: 0.313000\n",
      "lr 7.000000e-07 reg 5.000000e+03 train accuracy: 0.241286 val accuracy: 0.244000\n",
      "lr 7.000000e-07 reg 7.000000e+03 train accuracy: 0.236388 val accuracy: 0.227000\n",
      "lr 7.000000e-07 reg 1.000000e+04 train accuracy: 0.249102 val accuracy: 0.248000\n",
      "lr 7.000000e-07 reg 3.000000e+04 train accuracy: 0.316082 val accuracy: 0.320000\n",
      "lr 7.000000e-07 reg 5.000000e+04 train accuracy: 0.323837 val accuracy: 0.332000\n",
      "lr 7.000000e-07 reg 7.000000e+04 train accuracy: 0.320327 val accuracy: 0.326000\n",
      "lr 1.000000e-06 reg 5.000000e+03 train accuracy: 0.260776 val accuracy: 0.275000\n",
      "lr 1.000000e-06 reg 7.000000e+03 train accuracy: 0.267959 val accuracy: 0.263000\n",
      "lr 1.000000e-06 reg 1.000000e+04 train accuracy: 0.283939 val accuracy: 0.293000\n",
      "lr 1.000000e-06 reg 3.000000e+04 train accuracy: 0.326163 val accuracy: 0.342000\n",
      "lr 1.000000e-06 reg 5.000000e+04 train accuracy: 0.329388 val accuracy: 0.331000\n",
      "lr 1.000000e-06 reg 7.000000e+04 train accuracy: 0.304000 val accuracy: 0.312000\n",
      "lr 3.000000e-06 reg 5.000000e+03 train accuracy: 0.321000 val accuracy: 0.303000\n",
      "lr 3.000000e-06 reg 7.000000e+03 train accuracy: 0.339694 val accuracy: 0.345000\n",
      "lr 3.000000e-06 reg 1.000000e+04 train accuracy: 0.344694 val accuracy: 0.361000\n",
      "lr 3.000000e-06 reg 3.000000e+04 train accuracy: 0.313286 val accuracy: 0.304000\n",
      "lr 3.000000e-06 reg 5.000000e+04 train accuracy: 0.300796 val accuracy: 0.320000\n",
      "lr 3.000000e-06 reg 7.000000e+04 train accuracy: 0.284020 val accuracy: 0.290000\n",
      "lr 5.000000e-06 reg 5.000000e+03 train accuracy: 0.330551 val accuracy: 0.340000\n",
      "lr 5.000000e-06 reg 7.000000e+03 train accuracy: 0.325510 val accuracy: 0.300000\n",
      "lr 5.000000e-06 reg 1.000000e+04 train accuracy: 0.305571 val accuracy: 0.320000\n",
      "lr 5.000000e-06 reg 3.000000e+04 train accuracy: 0.231184 val accuracy: 0.234000\n",
      "lr 5.000000e-06 reg 5.000000e+04 train accuracy: 0.203469 val accuracy: 0.231000\n",
      "lr 5.000000e-06 reg 7.000000e+04 train accuracy: 0.164102 val accuracy: 0.166000\n",
      "lr 1.000000e-05 reg 5.000000e+03 train accuracy: 0.250204 val accuracy: 0.250000\n",
      "lr 1.000000e-05 reg 7.000000e+03 train accuracy: 0.262306 val accuracy: 0.241000\n",
      "lr 1.000000e-05 reg 1.000000e+04 train accuracy: 0.205184 val accuracy: 0.211000\n",
      "lr 1.000000e-05 reg 3.000000e+04 train accuracy: 0.190122 val accuracy: 0.186000\n",
      "lr 1.000000e-05 reg 5.000000e+04 train accuracy: 0.148306 val accuracy: 0.144000\n",
      "lr 1.000000e-05 reg 7.000000e+04 train accuracy: 0.112714 val accuracy: 0.128000\n",
      "best validation accuracy achieved during cross-validation: 0.361000\n"
     ]
    }
   ],
   "source": [
    "# Use the validation set to tune hyperparameters (regularization strength and\n",
    "# learning rate). You should experiment with different ranges for the learning\n",
    "# rates and regularization strengths; if you are careful you should be able to\n",
    "# get a classification accuracy of over 0.35 on the validation set.\n",
    "from cs294_129.classifiers import Softmax\n",
    "results = {}\n",
    "best_val = -1\n",
    "best_softmax = None\n",
    "learning_rates = [3e-7, 5e-7, 7e-7, 1e-6, 3e-6, 5e-6, 1e-5]\n",
    "regularization_strengths = [5e3, 7e3, 1e4, 3e4, 5e4, 7e4]\n",
    "\n",
    "################################################################################\n",
    "# TODO:                                                                        #\n",
    "# Use the validation set to set the learning rate and regularization strength. #\n",
    "# This should be identical to the validation that you did for the SVM; save    #\n",
    "# the best trained softmax classifer in best_softmax.                          #\n",
    "################################################################################\n",
    "for rate in learning_rates:\n",
    "    for reg in regularization_strengths:\n",
    "        softmax = Softmax()\n",
    "        softmax.train(X_train, y_train, rate, reg, num_iters=100, verbose=False)\n",
    "        y_train_pred = softmax.predict(X_train)\n",
    "        y_val_pred = softmax.predict(X_val)\n",
    "        num_correct_train = np.sum(y_train_pred == y_train)\n",
    "        num_correct_val = np.sum(y_val_pred == y_val)\n",
    "        train_accuracy = float(num_correct_train) / y_train.size\n",
    "        val_accuracy = float(num_correct_val) / y_val.size\n",
    "        results[(rate, reg)] = (train_accuracy, val_accuracy)\n",
    "        if val_accuracy > best_val:\n",
    "            best_val = val_accuracy\n",
    "            best_softmax = softmax\n",
    "################################################################################\n",
    "#                              END OF YOUR CODE                                #\n",
    "################################################################################\n",
    "    \n",
    "# Print out results.\n",
    "for lr, reg in sorted(results):\n",
    "    train_accuracy, val_accuracy = results[(lr, reg)]\n",
    "    print 'lr %e reg %e train accuracy: %f val accuracy: %f' % (\n",
    "                lr, reg, train_accuracy, val_accuracy)\n",
    "    \n",
    "print 'best validation accuracy achieved during cross-validation: %f' % best_val"
   ]
  },
  {
   "cell_type": "code",
   "execution_count": 21,
   "metadata": {
    "collapsed": false
   },
   "outputs": [
    {
     "name": "stdout",
     "output_type": "stream",
     "text": [
      "softmax on raw pixels final test set accuracy: 0.339000\n"
     ]
    }
   ],
   "source": [
    "# evaluate on test set\n",
    "# Evaluate the best softmax on test set\n",
    "y_test_pred = best_softmax.predict(X_test)\n",
    "test_accuracy = np.mean(y_test == y_test_pred)\n",
    "print 'softmax on raw pixels final test set accuracy: %f' % (test_accuracy, )"
   ]
  },
  {
   "cell_type": "code",
   "execution_count": 22,
   "metadata": {
    "collapsed": false
   },
   "outputs": [
    {
     "data": {
      "image/png": "[encoded data removed]",
      "text/plain": [
       "<matplotlib.figure.Figure at 0x115508e90>"
      ]
     },
     "metadata": {},
     "output_type": "display_data"
    }
   ],
   "source": [
    "# Visualize the learned weights for each class\n",
    "w = best_softmax.W[:-1,:] # strip out the bias\n",
    "w = w.reshape(32, 32, 3, 10)\n",
    "\n",
    "w_min, w_max = np.min(w), np.max(w)\n",
    "\n",
    "classes = ['plane', 'car', 'bird', 'cat', 'deer', 'dog', 'frog', 'horse', 'ship', 'truck']\n",
    "for i in xrange(10):\n",
    "  plt.subplot(2, 5, i + 1)\n",
    "  \n",
    "  # Rescale the weights to be between 0 and 255\n",
    "  wimg = 255.0 * (w[:, :, :, i].squeeze() - w_min) / (w_max - w_min)\n",
    "  plt.imshow(wimg.astype('uint8'))\n",
    "  plt.axis('off')\n",
    "  plt.title(classes[i])"
   ]
  },
  {
   "cell_type": "code",
   "execution_count": null,
   "metadata": {
    "collapsed": true
   },
   "outputs": [],
   "source": []
  }
 ],
 "metadata": {
  "kernelspec": {
   "display_name": "Python 2",
   "language": "python",
   "name": "python2"
  },
  "language_info": {
   "codemirror_mode": {
    "name": "ipython",
    "version": 2
   },
   "file_extension": ".py",
   "mimetype": "text/x-python",
   "name": "python",
   "nbconvert_exporter": "python",
   "pygments_lexer": "ipython2",
   "version": "2.7.11"
  }
 },
 "nbformat": 4,
 "nbformat_minor": 0
}
